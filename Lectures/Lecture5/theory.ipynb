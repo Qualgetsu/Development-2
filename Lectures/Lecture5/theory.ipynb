{
 "cells": [
  {
   "cell_type": "markdown",
   "metadata": {},
   "source": [
    "# Designing recursive functions"
   ]
  },
  {
   "cell_type": "markdown",
   "metadata": {},
   "source": [
    "_Note_: ensure that students copy, by hand and on paper, the various definitions written by the teacher on the whiteboard. It is strongly advised to ask students *not* to use a laptop, as it will prove distracting.\n",
    "\n",
    "The topics discussed are:\n",
    "- we will now suspend the \"theory\" for a lecture in order to see a series of examples of recursive functions\n",
    "- general process:\n",
    "    - draw the problem fully\n",
    "    - find the recurring structures\n",
    "        - combine the recurring structures together\n",
    "    - find the base case\n",
    "    - find a discriminator between base case and recurring structure\n",
    "- adding numbers 1..n\n",
    "- multiplying numbers 1..n\n",
    "- multiplication as repeated addition\n",
    "- power as repeated multiplication\n",
    "- line\n",
    "    - asterisk + line\n",
    "    - line + asterisk + line\n",
    "- rectangle\n",
    "    - line + rectangle\n",
    "    - rectangle + rectangle\n",
    "    - rectangle + rectangle along the longest axis\n",
    "- triangle\n",
    "    - triangle + line\n",
    "    - trapezoid + trapezoid"
   ]
  }
 ],
 "metadata": {
  "kernelspec": {
   "display_name": "Python 3",
   "language": "python",
   "name": "python3"
  },
  "language_info": {
   "codemirror_mode": {
    "name": "ipython",
    "version": 3
   },
   "file_extension": ".py",
   "mimetype": "text/x-python",
   "name": "python",
   "nbconvert_exporter": "python",
   "pygments_lexer": "ipython3",
   "version": "3.5.2"
  }
 },
 "nbformat": 4,
 "nbformat_minor": 1
}
