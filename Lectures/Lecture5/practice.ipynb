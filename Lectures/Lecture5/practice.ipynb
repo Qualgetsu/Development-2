{
 "cells": [
  {
   "cell_type": "markdown",
   "metadata": {},
   "source": [
    "# Activities"
   ]
  },
  {
   "cell_type": "markdown",
   "metadata": {},
   "source": [
    "Note: the practice happens almost exclusively on paper, potentially augmented by multiple choice questions in order to submit an answer that shows understanding.\n",
    "\n",
    "The activities performed are:\n",
    "\n",
    "- work with the analysis and completion of simple recursive functions\n",
    "    - sum of 1..n\n",
    "    - product of 1..n\n",
    "    - multiplication as repeated addition\n",
    "    - power as repeated multiplication\n",
    "    - line (asterisk + line, line + asterisk + line, line + line(n-n//2))\n",
    "    - square (rectangle, various formulations: per line, rectangle as sum of rectangles, etc.)\n",
    "    - triangle (trapezoid)"
   ]
  }
 ],
 "metadata": {
  "kernelspec": {
   "display_name": "Python 3",
   "language": "python",
   "name": "python3"
  },
  "language_info": {
   "codemirror_mode": {
    "name": "ipython",
    "version": 3
   },
   "file_extension": ".py",
   "mimetype": "text/x-python",
   "name": "python",
   "nbconvert_exporter": "python",
   "pygments_lexer": "ipython3",
   "version": "3.5.2"
  }
 },
 "nbformat": 4,
 "nbformat_minor": 1
}
