{
 "cells": [
  {
   "cell_type": "markdown",
   "metadata": {},
   "source": [
    "# Algebra of drawing functions"
   ]
  },
  {
   "cell_type": "markdown",
   "metadata": {},
   "source": [
    "_Note_: ensure that students copy, by hand and on paper, the various definitions written by the teacher on the whiteboard. It is strongly advised to ask students *not* to use a laptop, as it will prove distracting.\n",
    "\n",
    "The topics discussed are:\n",
    "\n",
    "- a drawing function as we have built so far in general takes `n*n` decisions of the form \"is the current pixel an asterisk?\"\n",
    "- we could generalise this in a HOF:"
   ]
  },
  {
   "cell_type": "code",
   "execution_count": 5,
   "metadata": {},
   "outputs": [],
   "source": [
    "def draw(n,m,p):\n",
    "    s = \"\"\n",
    "    i = 0\n",
    "    while i < n:\n",
    "        j = 0\n",
    "        while j < m:\n",
    "            if p(n,m,i,j):\n",
    "                s = s + \"*\"\n",
    "            else:\n",
    "                s = s + \" \"\n",
    "            j = j + 1\n",
    "        s = s + \"\\n\"\n",
    "        i = i + 1\n",
    "    return s"
   ]
  },
  {
   "cell_type": "markdown",
   "metadata": {},
   "source": [
    "- this function accepts as arguments the size of the picture to draw, and a function `p`\n",
    "    - by specifying different values of `p` (as lambda expressions if needed), we completely change the picture drawn\n",
    "    - for example, if `p` always returns `True`, we simply fill the picture with asterisks\n",
    "    - on the other hand, if `p` always returns `False`, we simply get a completely empty picture\n",
    "    - when `j <= i` then we get a triangle\n",
    "    - and so on..."
   ]
  },
  {
   "cell_type": "code",
   "execution_count": 6,
   "metadata": {},
   "outputs": [
    {
     "name": "stdout",
     "output_type": "stream",
     "text": [
      "***\n",
      "***\n",
      "***\n",
      "\n",
      "   \n",
      "   \n",
      "   \n",
      "\n",
      "*  \n",
      "** \n",
      "***\n",
      "\n"
     ]
    }
   ],
   "source": [
    "print(draw(3,3,lambda n,m,i,j: True))\n",
    "print(draw(3,3,lambda n,m,i,j: False))\n",
    "print(draw(3,3,lambda n,m,i,j: j <= i))"
   ]
  },
  {
   "cell_type": "markdown",
   "metadata": {},
   "source": [
    "- interestingly enough, we could now simply state that a function from four integers (width, height, row index, column index) into a boolean (pixel on/off) **is** a picture\n",
    "    - we can simply pass such a function to `draw` and just see it drawn\n",
    "- let us now consider a hollow square\n",
    "- let us identify the borders: `i == 0`, `j == 0`, `i == n-1`, or `j == n-1`"
   ]
  },
  {
   "cell_type": "code",
   "execution_count": 8,
   "metadata": {},
   "outputs": [
    {
     "name": "stdout",
     "output_type": "stream",
     "text": [
      "***\n",
      "   \n",
      "   \n",
      "\n",
      "*  \n",
      "*  \n",
      "*  \n",
      "\n",
      "   \n",
      "   \n",
      "***\n",
      "\n",
      "  *\n",
      "  *\n",
      "  *\n",
      "\n"
     ]
    }
   ],
   "source": [
    "print(draw(3,3,lambda n,m,i,j: i == 0))\n",
    "print(draw(3,3,lambda n,m,i,j: j == 0))\n",
    "print(draw(3,3,lambda n,m,i,j: i == n-1))\n",
    "print(draw(3,3,lambda n,m,i,j: j == m-1))"
   ]
  },
  {
   "cell_type": "markdown",
   "metadata": {},
   "source": [
    "- in the same spirit as the previous lectures, we always look for abstractions that capture our idea of composing concepts together\n",
    "- given multiple functions such as `lambda n,m,i,j: i == 0`, `lambda n,m,i,j: j == 0`, etc., how do we compose them into a single function which represents the picture drawn by, for example, overlaying the pictures?\n",
    "- we could do this explicitly (and thus quite verbosely), as a first approximation\n",
    "    - notice that the hollow square draws pixels which belong to the upper row, lower row, left column, **or** right column\n",
    "    - we can literally just invoke the various functions for the image parts and combine the results in a boolean `or`"
   ]
  },
  {
   "cell_type": "code",
   "execution_count": 10,
   "metadata": {},
   "outputs": [
    {
     "name": "stdout",
     "output_type": "stream",
     "text": [
      "***\n",
      "* *\n",
      "***\n",
      "\n"
     ]
    }
   ],
   "source": [
    "upper_line = lambda n,m,i,j: i == 0\n",
    "left_line = lambda n,m,i,j: j == 0\n",
    "lower_line = lambda n,m,i,j: i == n-1\n",
    "right_line = lambda n,m,i,j: j == m-1\n",
    "\n",
    "hollow_square = lambda n,m,i,j: upper_line(n,m,i,j) or lower_line(n,m,i,j) or left_line(n,m,i,j) or right_line(n,m,i,j)\n",
    "print(draw(3,3,hollow_square))"
   ]
  },
  {
   "cell_type": "markdown",
   "metadata": {},
   "source": [
    "- suppose now that we wanted to just draw the upper and lower rows\n",
    "- we would have to define another function, and even figure out some reasonable name for it"
   ]
  },
  {
   "cell_type": "code",
   "execution_count": 11,
   "metadata": {},
   "outputs": [
    {
     "name": "stdout",
     "output_type": "stream",
     "text": [
      "***\n",
      "   \n",
      "***\n",
      "\n"
     ]
    }
   ],
   "source": [
    "upper_and_lower_rows = lambda n,m,i,j: upper_line(n,m,i,j) or lower_line(n,m,i,j)\n",
    "print(draw(3,3,upper_and_lower_rows))"
   ]
  },
  {
   "cell_type": "markdown",
   "metadata": {},
   "source": [
    "- of course we could now notice an emerging pattern: composing a picture as an `or` of multiple pictures\n",
    "- we could therefore define this pattern explicitly as a higher order function which takes two pictures as parameters, invokes both of them, and combines the results with an `or`"
   ]
  },
  {
   "cell_type": "code",
   "execution_count": 12,
   "metadata": {},
   "outputs": [
    {
     "name": "stdout",
     "output_type": "stream",
     "text": [
      "***\n",
      "   \n",
      "***\n",
      "\n"
     ]
    }
   ],
   "source": [
    "def pic_or(p,q):\n",
    "    return lambda n,m,i,j: p(n,m,i,j) or q(n,m,i,j)\n",
    "print(draw(3,3,pic_or(upper_line, lower_line)))"
   ]
  },
  {
   "cell_type": "markdown",
   "metadata": {},
   "source": [
    "- thanks to `pic_or`, which we call a _combinator_ (since it combines arbitrary pictures together), we can quickly draw different pictures"
   ]
  },
  {
   "cell_type": "code",
   "execution_count": 20,
   "metadata": {},
   "outputs": [
    {
     "name": "stdout",
     "output_type": "stream",
     "text": [
      "***\n",
      "*  \n",
      "*  \n",
      "\n",
      "*    *\n",
      "**  **\n",
      "******\n",
      "******\n",
      "******\n",
      "******\n",
      "\n"
     ]
    }
   ],
   "source": [
    "print(draw(3,3,pic_or(upper_line, left_line)))\n",
    "print(draw(6,6,pic_or(lambda n,m,i,j: n-i-1 <= j, lambda n,m,i,j: j <= i)))"
   ]
  },
  {
   "cell_type": "markdown",
   "metadata": {},
   "source": [
    "- given that `pic_or` is itself a picture, we can pass its result to `pic_or` itself in order to go on nesting"
   ]
  },
  {
   "cell_type": "code",
   "execution_count": 22,
   "metadata": {},
   "outputs": [
    {
     "name": "stdout",
     "output_type": "stream",
     "text": [
      "*****\n",
      "*   *\n",
      "*   *\n",
      "*   *\n",
      "*****\n",
      "\n"
     ]
    }
   ],
   "source": [
    "print(draw(5,5,pic_or(pic_or(upper_line, lower_line), pic_or(left_line, right_line))))"
   ]
  },
  {
   "cell_type": "markdown",
   "metadata": {},
   "source": [
    "- of course there must be many other combinators possible\n",
    "- in order to discover these combinators, we could: \n",
    "    - perform a long exploration based on trial and error, and look for new and interesting ways to combine pictures, or\n",
    "    - we could notice that pictures return booleans, and as such given multiple pictures the ways we can combine their output per pixel define the ways we can combine the pictures themselves\n",
    "        - booleans can be combined with `and`, `or`, and `not`\n",
    "        - `and` of two pictures produces their intersection, that is only the pixels which are lit in both pictures\n",
    "        - `not` inverts the picture: the lit pixels become unlit, and vice-versa"
   ]
  },
  {
   "cell_type": "code",
   "execution_count": 24,
   "metadata": {},
   "outputs": [
    {
     "name": "stdout",
     "output_type": "stream",
     "text": [
      "*  \n",
      "   \n",
      "   \n",
      "\n",
      " **\n",
      " **\n",
      " **\n",
      "\n"
     ]
    }
   ],
   "source": [
    "def pic_and(p,q):\n",
    "    return lambda n,m,i,j: p(n,m,i,j) and q(n,m,i,j)\n",
    "print(draw(3,3,pic_and(upper_line, left_line)))\n",
    "\n",
    "def pic_not(p):\n",
    "    return lambda n,m,i,j: not p(n,m,i,j)\n",
    "print(draw(3,3,pic_not(left_line)))"
   ]
  },
  {
   "cell_type": "markdown",
   "metadata": {},
   "source": [
    "- we have performed transformations on the output of the picture functions\n",
    "- we can also perform transformations on the parameters\n",
    "    - one such transformation is flipping, horizontally and vertically\n",
    "        - for example, we could invoke the picture function with `n-1` instead of `0`, `n-2` instead of `1`, etc."
   ]
  },
  {
   "cell_type": "code",
   "execution_count": 29,
   "metadata": {},
   "outputs": [
    {
     "name": "stdout",
     "output_type": "stream",
     "text": [
      "***\n",
      "** \n",
      "*  \n",
      "\n",
      "***\n",
      " **\n",
      "  *\n",
      "\n",
      "*  \n",
      "** \n",
      "***\n",
      "\n",
      "  *\n",
      " **\n",
      "***\n",
      "\n"
     ]
    }
   ],
   "source": [
    "def flip_hor(p):\n",
    "    return lambda n,m,i,j: p(n,m,i,m-1-j)\n",
    "def flip_ver(p):\n",
    "    return lambda n,m,i,j: p(n,m,n-1-i,j)\n",
    "upper_right_triangle = lambda n,m,i,j: i <= j\n",
    "upper_left_triangle  = flip_hor(upper_right_triangle)\n",
    "lower_right_triangle = flip_ver(upper_right_triangle)\n",
    "lower_left_triangle  = flip_ver(upper_left_triangle)\n",
    "print(draw(3,3,upper_left_triangle))\n",
    "print(draw(3,3,upper_right_triangle))\n",
    "print(draw(3,3,lower_left_triangle))\n",
    "print(draw(3,3,lower_right_triangle))"
   ]
  },
  {
   "cell_type": "markdown",
   "metadata": {},
   "source": [
    "- we could also notice that a pyramid is no more than the intersection of the two lower triangles, but now other pyramids which would have been much harder to draw also become trivial"
   ]
  },
  {
   "cell_type": "code",
   "execution_count": 35,
   "metadata": {},
   "outputs": [
    {
     "name": "stdout",
     "output_type": "stream",
     "text": [
      "     \n",
      "     \n",
      "  *  \n",
      " *** \n",
      "*****\n",
      "\n",
      "*    \n",
      "**   \n",
      "***  \n",
      "**   \n",
      "*    \n",
      "\n",
      "*   *\n",
      "** **\n",
      "*****\n",
      "** **\n",
      "*   *\n",
      "\n"
     ]
    }
   ],
   "source": [
    "upper_pyramid = pic_and(upper_left_triangle, upper_right_triangle)\n",
    "lower_pyramid = pic_and(lower_left_triangle, lower_right_triangle)\n",
    "left_pyramid = pic_and(lower_left_triangle, upper_left_triangle)\n",
    "right_pyramid = pic_and(lower_right_triangle, upper_right_triangle)\n",
    "print(draw(5,5,lower_pyramid))\n",
    "print(draw(5,5,left_pyramid))\n",
    "\n",
    "\n",
    "butterfly = pic_or(left_pyramid, right_pyramid)\n",
    "print(draw(5,5,butterfly))"
   ]
  },
  {
   "cell_type": "markdown",
   "metadata": {},
   "source": [
    "- as a final touch, let us create a circle by using the well-known Pythagoras' formula"
   ]
  },
  {
   "cell_type": "code",
   "execution_count": 39,
   "metadata": {},
   "outputs": [
    {
     "name": "stdout",
     "output_type": "stream",
     "text": [
      " *** \n",
      "*****\n",
      "*****\n",
      "*****\n",
      " *** \n",
      "\n",
      "     *****     \n",
      "   *********   \n",
      "  **********   \n",
      " **********    \n",
      " *********     \n",
      "*********      \n",
      "********       \n",
      "*******        \n",
      "********       \n",
      "*********      \n",
      " *********     \n",
      " **********    \n",
      "  **********   \n",
      "   *********   \n",
      "     *****     \n",
      "\n"
     ]
    }
   ],
   "source": [
    "circle = lambda n,m,i,j: (i-n//2)*(i-n//2)+(j-n//2)*(j-n//2) <= n*n//4\n",
    "print(draw(5,5,circle))"
   ]
  },
  {
   "cell_type": "markdown",
   "metadata": {},
   "source": [
    "- let us conclude with a classic"
   ]
  },
  {
   "cell_type": "code",
   "execution_count": 45,
   "metadata": {},
   "outputs": [
    {
     "name": "stdout",
     "output_type": "stream",
     "text": [
      "     *****     \n",
      "   *********   \n",
      "  **********   \n",
      " ****** ***    \n",
      " *********     \n",
      "*********      \n",
      "********       \n",
      "*******        \n",
      "********       \n",
      "*********      \n",
      " *********     \n",
      " **********    \n",
      "  **********   \n",
      "   *********   \n",
      "     *****     \n",
      "\n"
     ]
    }
   ],
   "source": [
    "print(draw(15,15,pic_and(circle, pic_not(pic_or(lambda n,m,i,j: i == n//4 and j == m//2, right_pyramid)))))"
   ]
  }
 ],
 "metadata": {
  "kernelspec": {
   "display_name": "Python 3",
   "language": "python",
   "name": "python3"
  },
  "language_info": {
   "codemirror_mode": {
    "name": "ipython",
    "version": 3
   },
   "file_extension": ".py",
   "mimetype": "text/x-python",
   "name": "python",
   "nbconvert_exporter": "python",
   "pygments_lexer": "ipython3",
   "version": "3.5.2"
  }
 },
 "nbformat": 4,
 "nbformat_minor": 2
}
