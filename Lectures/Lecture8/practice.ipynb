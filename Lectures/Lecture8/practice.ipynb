{
 "cells": [
  {
   "cell_type": "markdown",
   "metadata": {},
   "source": [
    "# Activities"
   ]
  },
  {
   "cell_type": "markdown",
   "metadata": {},
   "source": [
    "Note: the practice happens almost exclusively on paper, potentially augmented by multiple choice questions in order to submit an answer that shows understanding.\n",
    "\n",
    "The activities performed are:\n",
    "\n",
    "- drawing with combinators\n",
    "- to keep the assignments short, begin by combining predicates and invoking them directly, without drawing\n",
    "    - `not`, `or`, `pic`, `flip_hor`, `flip_ver`, `transpose`, `scale`, `clip`\n",
    "    - call each composed predicate a maximum of four times with different arguments\n",
    "- only one or two full drawing assignments"
   ]
  }
 ],
 "metadata": {
  "kernelspec": {
   "display_name": "Python 3",
   "language": "python",
   "name": "python3"
  },
  "language_info": {
   "codemirror_mode": {
    "name": "ipython",
    "version": 3
   },
   "file_extension": ".py",
   "mimetype": "text/x-python",
   "name": "python",
   "nbconvert_exporter": "python",
   "pygments_lexer": "ipython3",
   "version": "3.5.2"
  }
 },
 "nbformat": 4,
 "nbformat_minor": 1
}
