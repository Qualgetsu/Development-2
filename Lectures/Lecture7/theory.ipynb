{
 "cells": [
  {
   "cell_type": "markdown",
   "metadata": {},
   "source": [
    "# Examples of higher order functions and partial application"
   ]
  },
  {
   "cell_type": "markdown",
   "metadata": {},
   "source": [
    "_Note_: ensure that students copy, by hand and on paper, the various definitions written by the teacher on the whiteboard. It is strongly advised to ask students *not* to use a laptop, as it will prove distracting.\n",
    "\n",
    "The topics discussed are:\n",
    "\n",
    "- let us test the limits of the theory we have just given by building simple but concrete programs with it\n",
    "- we define some functions by only using the generic combinators `repeat` and `then`\n",
    "    - as usual, let us begin with a very simple problem: drawing lines recursively"
   ]
  },
  {
   "cell_type": "code",
   "execution_count": 2,
   "metadata": {},
   "outputs": [
    {
     "name": "stdout",
     "output_type": "stream",
     "text": [
      "3\n"
     ]
    },
    {
     "data": {
      "text/plain": [
       "'***'"
      ]
     },
     "execution_count": 2,
     "metadata": {},
     "output_type": "execute_result"
    }
   ],
   "source": [
    "def line(n):\n",
    "    if n <= 0:\n",
    "        return \"\"\n",
    "    else:\n",
    "        return \"*\" + line(n-1)\n",
    "line(int(input()))"
   ]
  },
  {
   "cell_type": "markdown",
   "metadata": {},
   "source": [
    "- if we observe the inductive case, we could read the expression `\"*\" + line(n-1)` as _draw an asterisk, then the rest of the line_\n",
    "- we might want to rewrite the code so that it more literally matches the description:\n",
    "    - our target is the highly descriptive `then(asterisk, line(n-1))` (_prefix_ instead of _infix_, but it is the same)\n",
    "- let us reformulate the task of `line`\n",
    "    - instead of just producing the line of asterisks, we want to **create a function that will add a line of asterisks to some initial string**\n",
    "    - so `line` returns a function that, given a string, adds a line of asterisks, for example:\n",
    "    - in general, drawing anything will become a function that adds the drawn element to a string which is passed as a parameter\n",
    "    \n",
    "- according to our new formulation of drawing:\n",
    "    - drawing nothing will simply add nothing to the string it receives as input\n",
    "    - drawing an asterisk will simply add an asterisk to the string it receives as input\n",
    "    - drawing a newline will simply add a newline to the string it receives as input    \n",
    "    - .."
   ]
  },
  {
   "cell_type": "code",
   "execution_count": 24,
   "metadata": {},
   "outputs": [
    {
     "name": "stdout",
     "output_type": "stream",
     "text": [
      "\n",
      "...\n",
      "*\n",
      "...*\n"
     ]
    }
   ],
   "source": [
    "def nothing(s): return s\n",
    "def asterisk(s): return s + \"*\"\n",
    "def space(s): return s + \" \"\n",
    "def newline(s): return s + \"\\n\"\n",
    "\n",
    "print(nothing(\"\"))\n",
    "print(nothing(\"...\"))\n",
    "\n",
    "print(asterisk(\"\"))\n",
    "print(asterisk(\"...\"))"
   ]
  },
  {
   "cell_type": "markdown",
   "metadata": {},
   "source": [
    "- suppose we wanted to draw more than an asterisk\n",
    "- we would simply call the asterisk function multiple times:"
   ]
  },
  {
   "cell_type": "code",
   "execution_count": 19,
   "metadata": {},
   "outputs": [
    {
     "name": "stdout",
     "output_type": "stream",
     "text": [
      "**\n",
      "***\n"
     ]
    }
   ],
   "source": [
    "print(asterisk(asterisk(\"\")))\n",
    "print(asterisk(asterisk(asterisk(\"\"))))"
   ]
  },
  {
   "cell_type": "markdown",
   "metadata": {},
   "source": [
    "- because of the many brackets, this is a bit cumbersome to read\n",
    "- if we observe the chain of calls to `asterisk` though, we could observe that we are simply calling `asterisk` on the output of another `asterisk` function (or more)\n",
    "- we could represent this explicitly by using the `then` function, which is exactly built to encapsulate this concept"
   ]
  },
  {
   "cell_type": "code",
   "execution_count": 25,
   "metadata": {},
   "outputs": [
    {
     "name": "stdout",
     "output_type": "stream",
     "text": [
      "**\n",
      "***\n",
      "!!!***\n",
      "* *\n"
     ]
    }
   ],
   "source": [
    "def then(f,g): \n",
    "    return lambda x: g(f(x))\n",
    "\n",
    "print(then(asterisk, asterisk)(\"\"))\n",
    "print(then(asterisk, then(asterisk, asterisk))(\"\"))\n",
    "print(then(asterisk, then(asterisk, asterisk))(\"!!!\"))\n",
    "print(then(asterisk, then(space, asterisk))(\"\"))"
   ]
  },
  {
   "cell_type": "markdown",
   "metadata": {},
   "source": [
    "- we are now building pipelines of drawing functions, but until we pass the starting string, nothing gets drawn\n",
    "    - we are delaying drawing now\n",
    "- of course we could also notice that `nothing` can always be added to such a pipeline without changing its effect"
   ]
  },
  {
   "cell_type": "code",
   "execution_count": 5,
   "metadata": {},
   "outputs": [
    {
     "name": "stdout",
     "output_type": "stream",
     "text": [
      "*\n",
      "*\n"
     ]
    }
   ],
   "source": [
    "print(then(nothing, asterisk)(\"\"))\n",
    "print(then(asterisk, nothing)(\"\"))"
   ]
  },
  {
   "cell_type": "markdown",
   "metadata": {},
   "source": [
    "- at this point, we can easily (for a large enough value of \"easily\") assemble the `line` function\n",
    "- an empty line simply _adds nothing_, as there is nothing to add\n",
    "- a non-empty line first adds an asterisk, then the rest of the line"
   ]
  },
  {
   "cell_type": "code",
   "execution_count": 6,
   "metadata": {},
   "outputs": [
    {
     "name": "stdout",
     "output_type": "stream",
     "text": [
      "3\n"
     ]
    },
    {
     "data": {
      "text/plain": [
       "'***'"
      ]
     },
     "execution_count": 6,
     "metadata": {},
     "output_type": "execute_result"
    }
   ],
   "source": [
    "def line(n):\n",
    "    if n <= 0:\n",
    "        return nothing\n",
    "    else:\n",
    "        return then(asterisk, line(n-1))\n",
    "\n",
    "line(int(input()))(\"\")"
   ]
  },
  {
   "cell_type": "markdown",
   "metadata": {},
   "source": [
    "- let us continue our journey\n",
    "- a rectangle with `n` rows and `m` columns is drawn as:\n",
    "    - nothing if `n` is zero\n",
    "    - a line, then a newline, and then a rectangle with n-1 rows otherwise\n",
    "- in code, this simply becomes:"
   ]
  },
  {
   "cell_type": "code",
   "execution_count": 8,
   "metadata": {},
   "outputs": [
    {
     "name": "stdout",
     "output_type": "stream",
     "text": [
      "3\n",
      "***\n",
      "***\n",
      "***\n",
      "\n"
     ]
    }
   ],
   "source": [
    "def rectangle(n,m):\n",
    "    if n <= 0:\n",
    "        return nothing\n",
    "    else:\n",
    "        return then(then(line(m), newline), rectangle(n-1,m))\n",
    "    \n",
    "n = int(input())\n",
    "print(rectangle(n,n)(\"\"))"
   ]
  },
  {
   "cell_type": "markdown",
   "metadata": {},
   "source": [
    "- of course the very same treatment can be applied to all functions we have seen so far\n",
    "    - including general-looking functions such as `repeat`\n",
    "    - we could reformulate `repeat` as a function which accepts a function as input, and then executes it `n` times starting from the same input\n",
    "    - `repeat(f,n)` will thus yield $\\texttt{lambda x:} \\underbrace{\\texttt{f(...(f(x))...)}}_{n \\text{ times}}$\n",
    "- we can implement `repeat` easily as a function which \n",
    "    - returns `nothing` if `n` is zero, as there is nothing to do\n",
    "    - first performs `f` once, `then` it `repeat`s `f` `n-1` times otherwise "
   ]
  },
  {
   "cell_type": "code",
   "execution_count": 18,
   "metadata": {},
   "outputs": [
    {
     "name": "stdout",
     "output_type": "stream",
     "text": [
      "10\n",
      "1024\n"
     ]
    }
   ],
   "source": [
    "def repeat(f,n):\n",
    "    if n <= 0:\n",
    "        return nothing\n",
    "    else:\n",
    "        return then(f, repeat(f, n-1))\n",
    "\n",
    "print(repeat(lambda x: x * 2, int(input()))(1))"
   ]
  },
  {
   "cell_type": "markdown",
   "metadata": {},
   "source": [
    "- notice how now functions such as `line` recover their original structure based upon `repeat`, just at another (higher) level of abstraction"
   ]
  },
  {
   "cell_type": "code",
   "execution_count": 21,
   "metadata": {},
   "outputs": [
    {
     "name": "stdout",
     "output_type": "stream",
     "text": [
      "5\n",
      "*****\n"
     ]
    }
   ],
   "source": [
    "def line(n): return repeat(asterisk, n)\n",
    "\n",
    "print(line(int(input()))(\"\"))"
   ]
  },
  {
   "cell_type": "markdown",
   "metadata": {},
   "source": [
    "- similarly, a square will also become the repetition of lines (each followed by a newline of course):"
   ]
  },
  {
   "cell_type": "code",
   "execution_count": 23,
   "metadata": {},
   "outputs": [
    {
     "name": "stdout",
     "output_type": "stream",
     "text": [
      "5\n",
      "*****\n",
      "*****\n",
      "*****\n",
      "*****\n",
      "*****\n",
      "\n"
     ]
    }
   ],
   "source": [
    "def square(n): return repeat(then(line(n), newline), n)\n",
    "\n",
    "print(square(int(input()))(\"\"))"
   ]
  },
  {
   "cell_type": "markdown",
   "metadata": {},
   "source": [
    "- hollow squares are built up from hollow lines, but for the rest follow the same approach:"
   ]
  },
  {
   "cell_type": "code",
   "execution_count": 36,
   "metadata": {},
   "outputs": [
    {
     "name": "stdout",
     "output_type": "stream",
     "text": [
      "4\n",
      "****\n",
      "*  *\n",
      "*  *\n",
      "****\n"
     ]
    }
   ],
   "source": [
    "def hollow_line(n): return then(asterisk, then(repeat(space, n-2), asterisk))\n",
    "def hollow_square(n): return then(then(line(n), newline), then(repeat(then(hollow_line(n), newline), n-2), line(n)))\n",
    "\n",
    "print(hollow_square(int(input()))(\"\"))"
   ]
  }
 ],
 "metadata": {
  "kernelspec": {
   "display_name": "Python 3",
   "language": "python",
   "name": "python3"
  },
  "language_info": {
   "codemirror_mode": {
    "name": "ipython",
    "version": 3
   },
   "file_extension": ".py",
   "mimetype": "text/x-python",
   "name": "python",
   "nbconvert_exporter": "python",
   "pygments_lexer": "ipython3",
   "version": "3.5.2"
  }
 },
 "nbformat": 4,
 "nbformat_minor": 1
}
