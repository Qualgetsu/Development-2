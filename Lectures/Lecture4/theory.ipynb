{
 "cells": [
  {
   "cell_type": "markdown",
   "metadata": {},
   "source": [
    "# Recursion"
   ]
  },
  {
   "cell_type": "markdown",
   "metadata": {},
   "source": [
    "_Note_: ensure that students copy, by hand and on paper, the various definitions written by the teacher on the whiteboard. It is strongly advised to ask students *not* to use a laptop, as it will prove distracting.\n",
    "\n",
    "The topics discussed are:\n",
    "- we will now focus on a very powerful way of solving complex problems _without_ loops\n",
    "- let us consider a line of asterisks of length `n`\n",
    "- a line can be seen as the concatenation of smaller lines:\n",
    "    - $\\texttt{\"*\"} + \\underbrace{\\texttt{\"*...*\"}}_{n-1}$\n",
    "    - $\\underbrace{\\texttt{\"*...*\"}}_{n/2} + \\underbrace{\\texttt{\"*...*\"}}_{n/2}$ (if $n$ is even)\n",
    "    - $\\texttt{\"*\"} + \\underbrace{\\texttt{\"*...*\"}}_{n/2} + \\underbrace{\\texttt{\"*...*\"}}_{n/2}$ (if $n$ is odd)\n",
    "    - etc.\n",
    "- a line of length $0$ does not require further thought: it is just the empty string \n",
    "- to recap: \n",
    "    - a line of length $n$ is:\n",
    "        - an empty string when $n = 0$\n",
    "        - a composition of an asterisk and a line of length $n-1$ otherwise\n",
    "- line clearly becomes a function, with a single parameter `n`\n",
    "- let us take a step towards code:\n",
    "\n",
    "```\n",
    "line = n =>\n",
    "  if n = 0 then\n",
    "    return \"\"\n",
    "  else\n",
    "    rest = line(n-1)\n",
    "    return \"*\" + rest\n",
    "```\n",
    "\n",
    "- that's it, this works already!"
   ]
  },
  {
   "cell_type": "code",
   "execution_count": 5,
   "metadata": {},
   "outputs": [
    {
     "name": "stdout",
     "output_type": "stream",
     "text": [
      "8\n",
      "********\n"
     ]
    }
   ],
   "source": [
    "def line(n):\n",
    "    if n == 0:\n",
    "        return \"\"\n",
    "    else:\n",
    "        rest = line(n-1)\n",
    "        return \"*\" + rest\n",
    "print(line(int(input())))"
   ]
  },
  {
   "cell_type": "markdown",
   "metadata": {},
   "source": [
    "- let us now see the state trace\n",
    "    - [[STATE TRACE]]\n",
    "    - the stack grows, creating one entry per active function (thus per asterisk to be added)\n",
    "    - when a function returns, then we add its value to the return expression, which grows \"right-to-left\"\n",
    "\n",
    "- we can also use a different decomposition, for example in half:\n",
    "\n",
    "```\n",
    "line = n =>\n",
    "  if n = 0 then\n",
    "    return \"\"\n",
    "  else\n",
    "    half = line(n//2)\n",
    "    extra = if n % 2 = 0 then \"\" else \"*\"\n",
    "    return half + half + extra\n",
    "```\n",
    "\n",
    "- now it takes less stack levels, because every step we divide the line in two instead of just removing one level"
   ]
  },
  {
   "cell_type": "code",
   "execution_count": 4,
   "metadata": {},
   "outputs": [
    {
     "name": "stdout",
     "output_type": "stream",
     "text": [
      "7\n",
      "*******\n"
     ]
    }
   ],
   "source": [
    "def line(n):\n",
    "    if n == 0:\n",
    "        return \"\"\n",
    "    else:\n",
    "        half = line(n//2)\n",
    "        extra = \"\" if n % 2 == 0 else \"*\" \n",
    "        return half + half + extra\n",
    "print(line(int(input())))"
   ]
  },
  {
   "cell_type": "markdown",
   "metadata": {},
   "source": [
    "- let us now see the state trace\n",
    "    - [[STATE TRACE]]\n",
    "    - the stack grows, creating one entry per active function\n",
    "        - since we divide the length by two every time, it takes a lot less total steps\n",
    "    - when a function returns, then we add its value to the return expression, which doubles at each level"
   ]
  },
  {
   "cell_type": "markdown",
   "metadata": {},
   "source": [
    "## General idea of the process\n",
    "- the general process we are following is called \"recursion\", or (in mathematics) \"induction\"\n",
    "    - state the problem: _drawing a line of `n` characters_\n",
    "    - divide the problem into similar, smaller problems (the _inductive_ case)\n",
    "        - a line is made up of smaller lines\n",
    "    - identify an end case that is easy to identify and solve (the _base_ case)\n",
    "        - a line of $0$ characters is the empty string `\"\"`\n",
    "    - define a function to solve the problem: `line = n => ...`\n",
    "    - check the input of the function to see if we are dealing with the end case or not:\n",
    "        - `if n = 0 then \"\" else ...`\n",
    "    - in the `else` branch, invoke the function recursively with adjusted parameters (**closer to the base case**):\n",
    "        - `rest = line(n-1)`\n",
    "    - assemble the partial results in the final result and return it\n",
    "        - `return \"*\" + rest`\n",
    "- following our template, a recursive function typically looks as follows:\n",
    "\n",
    "\n",
    "```\n",
    "f = args =>\n",
    "  if simple_to_solve then\n",
    "    return base_solution\n",
    "  else\n",
    "    part1 := f(args1)\n",
    "    part2 := f(args2)\n",
    "    ...\n",
    "    partN := f(argsN)\n",
    "    return combine_parts\n",
    "```\n",
    "\n",
    "- in the case of drawing lines:\n",
    "    - `f` becomes `line`\n",
    "    - `args` becomes `n`\n",
    "    - `simple_to_solve` becomes `n = 0` (or `n <= 0` to also gracefully capture nonsensical calls such as `line(-3)`)\n",
    "    - `base_solution` becomes `\"\"`\n",
    "    - `part1` becomes `\"*\"`\n",
    "    - `part2` becomes `rest`\n",
    "    - `f(args2)` becomes `line(n-1)`\n",
    "    - `combine_parts` becomes `part1 + part2`"
   ]
  },
  {
   "cell_type": "markdown",
   "metadata": {},
   "source": [
    "## Power of recursion\n",
    "- the question now becomes: is recursion more or less (or equally) powerful as loops?\n",
    "- to answer this, let us begin with a simple loop that sums the numbers from $1$ to $n$\n",
    "\n",
    "```\n",
    "n := int(input())\n",
    "sum := 0\n",
    "while n > 0 do\n",
    "  sum := sum + n\n",
    "  n := n - 1\n",
    "print(sum)\n",
    "```\n",
    "\n",
    "- we could also rephrase the problem in recursive terms\n",
    "    - the sum of all numbers $1 \\dots n$ is:\n",
    "        - $0$ if $n = 0$\n",
    "        - the sum of all numbers $1 \\dots n-1$ plus $n$ otherwise\n",
    "- this leads us to the following implementation:\n",
    "\n",
    "```\n",
    "sum_numbers_to = n =>\n",
    "  if n <= 0 then\n",
    "    return 0\n",
    "  else\n",
    "    rest := sum_numbers_to(n-1)\n",
    "    return rest + n\n",
    "    \n",
    "sum := sum_numbers_to(int(input())\n",
    "print(sum)\n",
    "```\n",
    "\n",
    "- at a first glance, the two implementations look different, yet comparable\n",
    "- let us see if we can bridge the gap between them\n",
    "- the first line before the `while` loop, `sum := 0`, is the base case (`BASE`)\n",
    "- the condition `n > 0` identifies when the base case _is not already met_ and we must proceed with further computation (`COND`)\n",
    "- the body of the loop contains the argument to the recursive call `n-1` (`REC`)\n",
    "- the body of the loop also contains the composition of the final result (`COMP`)\n",
    "\n",
    "- we can now restate both versions of the program, but the elements of code for their names\n",
    "\n",
    "- the loop becomes now:\n",
    "```\n",
    "n := int(input())\n",
    "sum := BASE\n",
    "while COND do\n",
    "  sum := COMP\n",
    "  n := REC\n",
    "``` \n",
    "\n",
    "- the recursive version becomes:\n",
    "```\n",
    "sum_numbers_to = n =>\n",
    "  if not COND then\n",
    "    return BASE\n",
    "  else\n",
    "    rest := sum_numbers_to(REC)\n",
    "    return COMP\n",
    "```\n",
    "\n",
    "- since virtually all individual loops can be condensed to a format such as the above (minus some minor adjustments), then we know that `while`, as a language construct, can be fully emulated with a recursive function\n",
    "- we can now check whether or not the opposite is the case as well\n",
    "\n",
    "- we can convert a recursive function with the same structure as the one above to a loop, but there are other recursive functions that are not really easy to translate\n",
    "- let us gor example consider the Fibonacci function, which models the growth of a population of rabbits:\n",
    "\n",
    "```\n",
    "fib = n => if n <= 1 then return n else return fib(n-1) + fib(n-2)\n",
    "```\n",
    "\n",
    "- [[STATE TRACE]]\n",
    "- the stack is used very intensively, because every level adds two fully recursive calls\n",
    "- the program also grows a lot in size, because of all the intermediate steps that are frozen in place\n",
    "    - because of its huge size, this formulation cannot be directly translated into a loop (unless we add a global variable storing a stack, but then we are simply rebuilding recursive functions!)\n",
    "    - a loop \"grows\" linearly in complexity, a recursive function exponentially!\n",
    "- the power of recursion makes it a fundamental tool in the toolbox of a modern developer!"
   ]
  }
 ],
 "metadata": {
  "kernelspec": {
   "display_name": "Python 3",
   "language": "python",
   "name": "python3"
  },
  "language_info": {
   "codemirror_mode": {
    "name": "ipython",
    "version": 3
   },
   "file_extension": ".py",
   "mimetype": "text/x-python",
   "name": "python",
   "nbconvert_exporter": "python",
   "pygments_lexer": "ipython3",
   "version": "3.5.2"
  }
 },
 "nbformat": 4,
 "nbformat_minor": 1
}
