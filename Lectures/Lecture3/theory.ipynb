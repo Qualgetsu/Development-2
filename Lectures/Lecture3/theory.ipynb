{
 "cells": [
  {
   "cell_type": "markdown",
   "metadata": {},
   "source": [
    "# Returning values and referential transparency"
   ]
  },
  {
   "cell_type": "markdown",
   "metadata": {},
   "source": [
    "_Note_: ensure that students copy, by hand and on paper, the various definitions written by the teacher on the whiteboard. It is strongly advised to ask students *not* to use a laptop, as it will prove distracting.\n",
    "\n",
    "The topics discussed are:\n",
    "- functions writing to the same value can produce a clash\n",
    "- `k => x := x + k` clashes with `k => x := x * k`\n",
    "- even worse, consider drawing a hollow square \n",
    "- we might want to define a few isolated, reusable concepts such as \"draw a full line\" and \"draw a hollow line\":\n",
    "\n",
    "```\n",
    "draw_full_line := () => s := \"*****\"\n",
    "draw_hollow_line := () => s := \"*   *\"\n",
    "...\n",
    "```\n",
    "\n",
    "- at this point we might want to also define the function for drawing the whole hollow square, without thinking about drawing individual lines anymore (the advantage of functions: thinking about different concepts in isolation):\n",
    "\n",
    "```\n",
    "...\n",
    "\n",
    "draw_square := () =>\n",
    "  s := \"\"\n",
    "  draw_full_line()\n",
    "  s := s + ?\n",
    "  draw_hollow_line()\n",
    "  s := s + ?\n",
    "  draw_hollow_line()\n",
    "  s := s + ?\n",
    "  draw_hollow_line()\n",
    "  s := s + ?\n",
    "  draw_full_line()\n",
    "  s := s + ?\n",
    "```\n",
    "\n",
    "- the problem we encounter here is that we want to put the result into variable `s`, but we cannot!\n",
    "    - because `s` is also used by the line-drawing functions, it gets reset everytime!\n",
    "- this breaks the isolation (also known as **encapsulation**) of functions\n",
    "- invoking a function requires us to carefully think about how it works internally, and what variables it writes to\n",
    "    - this is possible, but clearly inconvenient\n",
    "    - a good programming language must adjust to logical concepts, not the other way around"
   ]
  },
  {
   "cell_type": "markdown",
   "metadata": {},
   "source": [
    "## Returning\n",
    "- what we are looking for is a mechanism that allows functions to produce an output without having to rely on shared global variables\n",
    "    - because the variables are global, sharing them will produce some conflicts, which are considered to fall in the broad category of dangerous constructs known as _data races_ or _race conditions_\n",
    "    - if each function has its own safe place to store the output, then the act of returning a result will be intrinsically isolated from all other functions\n",
    "    - this increases isolation, so it is a positive property\n",
    "- we introduce the new statement, `return`\n",
    "- the syntax is `return E`, where `E` is any expression (also another function call!)\n",
    "- the semantics simply evaluates the expression until it is a constant value:\n",
    "    - $\\text{eval(<return C>, S)} \\rightarrow \\text{<C>, S}$ when $\\text{C}$ is a (constant) value\n",
    "    - $\\text{eval(<return E>, S)} \\rightarrow \\text{<return E'>, S'}$ where $\\text{eval(<E>, S)} \\rightarrow \\text{<E'>, S'}$\n",
    "- the fact that a function might result in something else other than just the `done` statement means that we also have to adjust the semantics of `call`:\n",
    "    - $\\text{eval(<call(return C)>, S)} \\rightarrow \\text{<C>, S[stack := S[stack][t]]}$ when $\\text{C}$ is a (constant) value\n",
    "    - $\\text{eval(<call(return C; ...)>, S)} \\rightarrow \\text{<C>, S[stack := S[stack][t]]}$ when $\\text{C}$ is a (constant) value\n",
    "    - $\\text{eval(<call(P)>, S)} \\rightarrow \\text{<call(P')>, S'}$ where $\\text{eval(<P>, S)} \\rightarrow \\text{<P'>, S'}$\n",
    "- notice that thanks to the second rule for `call`, we are ignoring the rest of the function when we return\n",
    "    - this is an important property of `return`, as it \"short-circuits\" a function and closes it right away"
   ]
  },
  {
   "cell_type": "markdown",
   "metadata": {},
   "source": [
    "## Examples of functions using `return`\n",
    "- let us consider some simple examples of drawing functions that make use of the `return` statement\n",
    "- each function will simply return what it was meant to draw, instead of writing it to some arbitrary variable\n",
    "\n",
    "- the first example will be drawing a 4x4 hollow square:\n",
    "    - let us begin with drawing single characters such as an asterisk or a newline: \n",
    "        - `asterisk := () => return \"*\"`\n",
    "        - `space    := () => return \" \"`\n",
    "        - `new_line := () => return \"\\n\"`\n",
    "    - now we can combine these results together:\n",
    "        - `full_line := () => return asterisk() + asterisk() + asterisk() + asterisk() + new_line()`\n",
    "        - `hollow_line := () => return asterisk() + space() + space() + asterisk() + new_line()`\n",
    "    - the final result is quite elegant:\n",
    "        - `hollow_square := () => return full_line() + hollow_line() + hollow_line() + full_line()`\n",
    "\n",
    "    - [[STATE TRACE OF PROGRAM (quite long!)]]\n",
    "\n",
    "    - notice that in this example we have not been needing variables anywhere!\n",
    "    \n",
    "- let us now generalize our functions so that they also accept the size of the figure as input\n",
    "    - the basic functions for drawing single characters stay exactly the same\n",
    "    - drawing a full line now accepts the length of the line as a parameter:\n",
    "        - `full_line := n => l := \"\"; while n > 0: { n := n - 1; l := l + asterisk() }; return l + new_line()`\n",
    "    - drawing a hollow line also accepts the length of the line as a parameter:\n",
    "        - `hollow_line := n => l := \"\"; while n > 2: { n := n - 1; l := l + space() }; return asterisk() + l + asterisk() + new_line()`\n",
    "- armed with the certainty that each of these functions works in full isolation from the rest, we can compose them together to build the final figure:\n",
    "    - `hollow_square := n => l := full_line(n); while n > 2: { n := n - 1; l := l + hollow_line(n) }; return l + full_line(n)`\n",
    "    - [[STATE TRACE OF PROGRAM]]\n",
    "    \n",
    "- we could also use the `full_line` function also to implement a (reversed) triangle, for example:\n",
    "    - `triangle := n => l := \"\"; while n > 0: { l := l + full_line(n); n := n - 1 }; return l`\n",
    "    - [[STATE TRACE OF PROGRAM]]"
   ]
  },
  {
   "cell_type": "markdown",
   "metadata": {},
   "source": [
    "## Functions in Python\n",
    "- we can translate the constructs we have seen so far into Python \n",
    "    - unfortunately Python offers a slightly more complex view of functions than the one we presented so far\n",
    "- Python allows us to define lambda expressions and assign them to variables, but unfortunately Python has a very limited definition of lambda expressions\n",
    "- Moreover, if we want to use full lambda expressions, then we need to assign them to a constant (a variable that can only be assigned once)\n",
    "    - this is done with `def` and `return`\n",
    "- for example, we could define a function to draw a line of asterisks as:"
   ]
  },
  {
   "cell_type": "code",
   "execution_count": 2,
   "metadata": {},
   "outputs": [
    {
     "name": "stdout",
     "output_type": "stream",
     "text": [
      "*****\n"
     ]
    }
   ],
   "source": [
    "def draw_line(n):\n",
    "    l = \"\"\n",
    "    while n > 0:\n",
    "        l = l + \"*\"\n",
    "        n = n - 1\n",
    "    return l\n",
    "print(draw_line(5))"
   ]
  },
  {
   "cell_type": "markdown",
   "metadata": {},
   "source": [
    "- Notice that Python combines defining and naming the function\n",
    "- Lambda expressions can also be defined in Python, but unfortunately they will directly return the only expression in their body\n",
    "    - This greatly limits their usefulness, as they cannot contain multiple statements"
   ]
  },
  {
   "cell_type": "code",
   "execution_count": 3,
   "metadata": {},
   "outputs": [
    {
     "name": "stdout",
     "output_type": "stream",
     "text": [
      "11\n"
     ]
    }
   ],
   "source": [
    "f = lambda x: x + 1\n",
    "print(f(10))"
   ]
  },
  {
   "cell_type": "markdown",
   "metadata": {},
   "source": [
    "## Functions inside expressions\n",
    "- Consider now the following statement: `x := f(3) + g(2)`\n",
    "- It contains two function calls one after the other\n",
    "- As you might recall, the first time we tackled the issue of evaluating expressions we introduced a simplifying hypothesis: that expression evaluation does not change the state\n",
    "- This hypothesis must now be lifted: expression evaluation has no special status, and can change the state\n",
    "- For this reason, all `eval_expr` rules that we defined so far are now \"lifted\" into `eval`, that is they may return a changed state instead of only the new expression for further computation\n",
    "- As an example, consider the rules for evaluating a sum:\n"
   ]
  }
 ],
 "metadata": {
  "kernelspec": {
   "display_name": "Python 3",
   "language": "python",
   "name": "python3"
  },
  "language_info": {
   "codemirror_mode": {
    "name": "ipython",
    "version": 3
   },
   "file_extension": ".py",
   "mimetype": "text/x-python",
   "name": "python",
   "nbconvert_exporter": "python",
   "pygments_lexer": "ipython3",
   "version": "3.6.1"
  }
 },
 "nbformat": 4,
 "nbformat_minor": 1
}
