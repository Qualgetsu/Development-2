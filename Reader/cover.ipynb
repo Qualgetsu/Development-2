{
 "cells": [
  {
   "cell_type": "markdown",
   "metadata": {},
   "source": [
    "# A practical, yet thorough, introduction to programming - with Python samples"
   ]
  },
  {
   "cell_type": "markdown",
   "metadata": {},
   "source": [
    "## Authors\n",
    "Dr. Giuseppe Maggiore"
   ]
  },
  {
   "cell_type": "markdown",
   "metadata": {},
   "source": [
    "## Synopsis\n",
    "In this text we discuss a practical, yet thorough, introduction to programming.\n",
    "\n",
    "Programming is, by nature, a complex discipline. This complexity stems from the fact that programming is, from the right perspective, no different than mathematical logic. This fact is better known as the _Curry-Howard-Lambek_ correspondence, demonstrating how the same abstract object can be seen as (the type of) a program, a proposition in mathematical logic, or an object in a Cartesian closed category. This is true for all programs, meaning that for each program we write, there exist a corresponding mathematical object that is not just linked to it, but rather **the same object**, just seen from the perspective of mathematics. At this point, some readers might be starting to panic: will we have to crack open the old books and study trigonometry and integrals again? Fortunately not. The link is not between programming and high school mathematics (a very specific subject, legacy of slow-to-adapt school systems all over the world). The link is between programming and the deep core of mathematics: logic and category theory. \n",
    "\n",
    "This inescapable link is what makes programming hard to master. Programming is no easier, and no harder, than its equal concepts of logic. It is more intuitive, we can use it to engineer constructions that we can test and observe, and so it easily matches an empyrical style of trial and error. Still, a deep understanding of programs and programming will only be formed by understanding the underlying rules of semantics and, later on, type systems. This will be done thoroughly throughout the book, to the point that the first few chapters will have nothing to do with a concrete programming language such as Python.\n",
    "\n",
    "As we have mastered the underlying concepts, we will move on to a more practical approach. Practical refers to the fact that the book aims, directly and unequivocally, at the preparation of software engineers. Not computer scientist, researchers, or theoreticians. The goal is therefore to teach how to program. Like all other practical disciplines, this will involve many examples, and a lot of exercises. After we have built understanding of the concepts that underpin code, we need to metabolize them and learn to use them subconsciously. Each reader will develop an own set of intuitions to quickly instantiate, in his or her own mind, the theoretical concepts without effort. When this is done, the reader will have achieved something exceptional: he or she will be able to program, and also to perfectly explain how and why everything works as it does.\n",
    "\n",
    "And so will mastery be born. Enjoy this wonderful voyage."
   ]
  }
 ],
 "metadata": {
  "kernelspec": {
   "display_name": "Python 3",
   "language": "python",
   "name": "python3"
  },
  "language_info": {
   "codemirror_mode": {
    "name": "ipython",
    "version": 3
   },
   "file_extension": ".py",
   "mimetype": "text/x-python",
   "name": "python",
   "nbconvert_exporter": "python",
   "pygments_lexer": "ipython3",
   "version": "3.6.1"
  }
 },
 "nbformat": 4,
 "nbformat_minor": 1
}
