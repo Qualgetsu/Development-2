{
 "cells": [
  {
   "cell_type": "markdown",
   "metadata": {},
   "source": [
    "# Returning values and referential transparency"
   ]
  },
  {
   "cell_type": "markdown",
   "metadata": {},
   "source": [
    "We now continue our journey to capture independent units of logic in the form of functions. So far, we have defined basic functions, shown how the stack allows us to define a local environment, called the scope, in which functions may save their own private data without conflicting with other functions, and finally we have shown that with such a mechanism functions may nest calls to each other without much danger.\n",
    "\n",
    "Unfortunately, we still have to tackle one last gray area: functions that *write* to the same global variable can produce a clash, which is an unwanted dangerous behaviour. For example, consider the functions `k => x := x + k` and `k => x := x * k`. Both functions write to the global variable `x` in order to be able to \"leave a trace\" of what they have computed. This makes sense given our framework so far, since a function that leaves no trace anywhere in the state is useless, so some form of result must remain behind after the function is done. The issue is that for the two functions we have just seen, the fact that they both act on `x` induces a coordination between them that might not be desirable: for example, what if we wanted to increment `y` instead of `x`, but double `x`?\n",
    "\n",
    "Even worse, consider the more complex example of drawing a hollow square. Following our recent philosophy of isolating concepts, we begin by defining a few key ideas such as how to \"draw a full line\" and \"draw a hollow line\":\n",
    "\n",
    "```\n",
    "draw_full_line := () => s := \"*****\"\n",
    "draw_hollow_line := () => s := \"*   *\"\n",
    "...\n",
    "```\n",
    "\n",
    "Notice how both functions simply put inside `s` their result. We might now also want to define the function for drawing the whole hollow square, without thinking about drawing the individual lines anymore, since those are \"solved problems\" and we do not need to tackle them anymore:\n",
    "\n",
    "```\n",
    "...\n",
    "\n",
    "draw_square := () =>\n",
    "  s := \"\"\n",
    "  draw_full_line()\n",
    "  s := s + ?\n",
    "  draw_hollow_line()\n",
    "  s := s + ?\n",
    "  draw_hollow_line()\n",
    "  s := s + ?\n",
    "  draw_hollow_line()\n",
    "  s := s + ?\n",
    "  draw_full_line()\n",
    "  s := s + ?\n",
    "```\n",
    "\n",
    "Unfortunately we encounter a problem: if we want to keep following the same convention of \"putting the result into `s`\", then we get a serious clash. Since `s` is also used by the line-drawing functions, everytime we draw a line then `s` gets effectively reset. We might \"solve\" this issue by backing `s` up before drawing each line or by using a temporary variable to accumulate the results before moving them to `s`, for example by restructuring the function above as follows:\n",
    "\n",
    "```\n",
    "...\n",
    "\n",
    "draw_square := () =>\n",
    "  tmp_s := \"\"\n",
    "  draw_full_line()\n",
    "  tmp_s := tmp_s + s\n",
    "  draw_hollow_line()\n",
    "  tmp_s := tmp_s + s\n",
    "  draw_hollow_line()\n",
    "  tmp_s := tmp_s + s\n",
    "  draw_hollow_line()\n",
    "  tmp_s := tmp_s + s\n",
    "  draw_full_line()\n",
    "  s := tmp_s + s\n",
    "```\n",
    "\n",
    "The code we have just written would likely work, but is dangerously confusing. There is no safe way to make use of the functions `draw_full_line` and `draw_hollow_line` without explicitly keeping track of what variables they will write. This defeats the purpose of isolated units of computation, and clearly breaks isolation (also known as **encapsulation** in this kind of context). Ideally, we would like to ensure that functions are completly independent from each other, and our definition so far is weak because functions depend too much on the variables they write. A good programming language must adjust to the logical concepts we try to express, not the other way around, so we must address this issue!"
   ]
  },
  {
   "cell_type": "markdown",
   "metadata": {},
   "source": [
    "## Returning\n",
    "The are in which we are having trouble is the communication of a function of its results to its caller. To achieve this, our functions simply write to a previously agreed-upon location in the state, and callers will find the result there. In the previous examples about drawing, this \"agreed-upon location\" was variable `s`.\n",
    "\n",
    "Because the only variables that are available to each function, caller and callee, are the global variables, sharing them across functions will produce conflicts. Such conflicts, which are broadly known as _data races_ or _race conditions_, are some of the most subtle bugs, and are often very difficult to reproduce and debug. Such a source of danger should be managed at the language level so that we do not have to regularly rely on a feature that is so easy to use incorrectly to almost be seen as a design issue of the langauge itself.\n",
    "\n",
    "What we want to achieve is a safe place for each function to store its output, so that the act of _returning a result_ from a function happens in isolation from all other functions. This increases overall isolation of the different parts of our programs, and as such is a positive and desireable property.\n",
    "\n",
    "To return a result we introduce a new statement, unsurprisingly called `return`. Its syntax is simply `return E`, where `E` is the expression that we want to return. Such an expression can be as simple (`3+x`) or as complext (`f(x) + g(y)`) as we want.\n",
    "\n",
    "The semantics of `return` simply evaluates the expression `E` until we reach a constant value, which is then yielded as the actual result:\n",
    "\n",
    "- $eval(<return C>, S) \\rightarrow <C>, S$ when $C$ is a (constant) value\n",
    "- $eval(<return E>, S) \\rightarrow <return E'>, S'$ where $eval(<E>, S) \\rightarrow <E'>,S'$\n",
    "\n",
    "A function might now result in something else other than just the `done` statement when it terminates. This means that the semantics of `call` must be adjusted in order to handle the scenario of a function which terminates by returning a value, which is handled by removing the `call` statement and simply yielding the value as a result:\n",
    "\n",
    "- $eval(<call(return C)>, S) \\rightarrow <C>, S[stack := S[stack][t]]$ when $C$ is a (constant) value\n",
    "- $eval(<call(return C; ...)>, S) \\rightarrow <C>, S[stack := S[stack][t]]$ when $C$ is a (constant) value\n",
    "- $eval(<call(P)>, S) \\rightarrow <call(P')>, S'$ where $eval(<P>, S) \\rightarrow <P'>, S'$\n",
    "\n",
    "Notice that thanks to the second rule for `call`, we are ignoring the rest of the function when we return, meaning that functions \"short-circuit\" and temrinate right away when they have found the final result."
   ]
  },
  {
   "cell_type": "markdown",
   "metadata": {},
   "source": [
    "## Examples of functions using `return`\n",
    "Let us now consider some simple examples of drawing functions that make use of the `return` statement. The biggest change is that functions will `return` what they are supposed to draw instead of writing it to some arbitrary global variable. \n",
    "\n",
    "We will be working \"bottom up\", that is we will start by defining basic elements, and then combine them into more and more complex shapes until we reach the desired figure.\n",
    "\n",
    "The first example will be drawing a 3x3 hollow square. We start by setting up some utility functions that draw single characters such as asterisks, newlines, and spaces:\n",
    "\n",
    "```\n",
    "asterisk := () => return \"*\"\n",
    "space    := () => return \" \"\n",
    "new_line := () => return \"\\n\"\n",
    "```\n",
    "\n",
    "We now take our first step towards higher complexity by combining these basic functions together into more complex shapes. The simplest of these more complex shapes will be the whole lines, specifically the full and the hollow lines that make up the rows of the hollow square:\n",
    "```\n",
    "full_line := () => return asterisk() + asterisk() + asterisk() + asterisk() + new_line()\n",
    "hollow_line := () => return asterisk() + space() + space() + asterisk() + new_line()\n",
    "```\n",
    "\n",
    "The next step upwards in terms of abstraction is simple and elegant, and directly provides the final result:\n",
    "\n",
    "```\n",
    "hollow_square := () => return full_line() + hollow_line() + hollow_line() + full_line()\n",
    "```\n",
    "\n",
    "[[STATE TRACE OF PROGRAM]]\n",
    "\n",
    "Notice that in this example we have, for the very first time, not been needing variables anywhere. This is a desirable side-effect of programming with isolated units of code, that is programs are simply built up as a composition of independent parts with negligible state usage.\n",
    "    \n",
    "Let us now generalize our functions so that they also accept the size of the hollow square as input. The basic functions for drawing single characters stay exactly the same, whereas drawing full and hollow lines now accepts the size of the square as a parameter. These functions will need to loop internally in order to ensure that the right number of symbols is added:\n",
    "\n",
    "```\n",
    "full_line := n => l := \"\"; while n > 0: { n := n - 1; l := l + asterisk() }; return l + new_line()\n",
    "hollow_line := n => l := \"*\"; while n > 2: { n := n - 1; l := l + space() }; return l + asterisk() + new_line()\n",
    "```\n",
    "\n",
    "Armed with the certainty that each of these functions works in full isolation from the rest (we can test them on their own as needed in case we had any doubts!), we can compose them together to build the final figure. Again, this is quite simply a composition of drawing the individual lines:\n",
    "\n",
    "```\n",
    "hollow_square := n => l := full_line(n); while n > 2: { n := n - 1; l := l + hollow_line(n) }; return l + full_line(n) + new_line()\n",
    "```\n",
    "\n",
    "[[STATE TRACE OF PROGRAM]]\n",
    "    \n",
    "We could also use some of the functions we have defined so far, for example `full_line`, to implement a (reversed) triangle. This requires simply the right sequence of invocations, and not much more:\n",
    "\n",
    "```\n",
    "triangle := n => l := \"\"; while n > 0: { n := n - 1; l := l + full_line(n) }; return l\n",
    "```\n",
    "\n",
    "[[STATE TRACE OF PROGRAM]]"
   ]
  },
  {
   "cell_type": "markdown",
   "metadata": {},
   "source": [
    "## Functions in Python\n",
    "We can translate the constructs we have seen so far into Python. Unfortunately Python offers a slightly more complex view of functions than the one we presented so far. Python allows us to define lambda expressions and assign them to variables, but unfortunately with an arbitrarily very restrictive definition of lambda expressions due to some peculiar philosophical motivations.\n",
    "\n",
    "Moreover, in order to define functions without the arbitrary restrictions, then we need to assign them to a constant (a variable that can only be assigned once) by using a special syntax (which should not be needed were the restrictions on lambda expressions lifted) based on the keyword `def`. Fortunately, the `return` keyword works as expected.\n",
    "\n",
    "For example, we could define a function to draw a line of asterisks as:"
   ]
  },
  {
   "cell_type": "code",
   "execution_count": 2,
   "metadata": {},
   "outputs": [
    {
     "name": "stdout",
     "output_type": "stream",
     "text": [
      "*****\n"
     ]
    }
   ],
   "source": [
    "def draw_line(n):\n",
    "    l = \"\"\n",
    "    while n > 0:\n",
    "        l = l + \"*\"\n",
    "        n = n - 1\n",
    "    return l\n",
    "print(draw_line(5))"
   ]
  },
  {
   "cell_type": "markdown",
   "metadata": {},
   "source": [
    "Notice that Python conflates defining and naming the function, forcing us to treat a function and its name as a single unit of code, which should not really be the case.\n",
    "\n",
    "Lambda expressions can also be defined in Python, but they will only contain an expression as their body which is then automatically returned right away.\n",
    "\n",
    "An example of such a lambda expression would be:"
   ]
  },
  {
   "cell_type": "code",
   "execution_count": 3,
   "metadata": {},
   "outputs": [
    {
     "name": "stdout",
     "output_type": "stream",
     "text": [
      "11\n"
     ]
    }
   ],
   "source": [
    "f = lambda x: x + 1\n",
    "print(f(10))"
   ]
  },
  {
   "cell_type": "markdown",
   "metadata": {},
   "source": [
    "Notice that the lambda expression above is, effectively, just a shorthand for\n",
    "\n",
    "```\n",
    "def f(x):\n",
    "  return x + 1\n",
    "```"
   ]
  },
  {
   "cell_type": "markdown",
   "metadata": {},
   "source": [
    "## Functions inside expressions\n",
    "As a closing note, let us now consider in more depth the relationship between function calls and expressions. When we first introduced expressions, we defined them in such a way that evaluation of an expression could not change the state. We now want to extend our expressions semantics so that we can also write an expression such as `f(x) + g(y)`, where `f` and `g` are functions. Unfortunately, evaluating a function might change the state. This means that our old way of tackling expressions, that is allowing them to only read, but not write to the state, will not work.\n",
    "\n",
    "We must therefore restate the expression evaluation rules so that they can change the state. For this reason, all `eval_expr` rules that we defined so far will now be turned into `eval`, so that they may return a changed state instead of only the new expression for further computation.\n",
    "\n",
    "As an example, consider the rules for evaluating a sum. These rules were once based on $eval_expr$, and read the state without changing it (by returning a new state):\n",
    "\n",
    "- $eval_expr(<E_1+E_2>,S) \\rightarrow <E_1'+E_2>$ where $eval_expr(<E_1>, S) \\rightarrow <E_1'>$\n",
    "- $eval_expr(<C+E>,S) \\rightarrow <C+E'>$ where $eval_expr(<E>, S) \\rightarrow <E'>$\n",
    "- $eval_expr(<C_1+C_2>,S) \\rightarrow <C>$ where $C_1+C_2 \\rightarrow C$\n",
    "\n",
    "Now, these expressions rules will simply become part of the $eval$ rules, so that the evaluation of partial expressions may change the state:\n",
    "\n",
    "- $eval(<E_1+E_2>,S) \\rightarrow <E_1'+E_2>,S'$ where $eval(<E_1>, S) \\rightarrow <E_1'>,S'$\n",
    "- $eval(<C+E>,S) \\rightarrow <C+E'>,S'$ where $eval(<E>, S) \\rightarrow <E'>,S'$\n",
    "- $eval(<C_1+C_2>,S) \\rightarrow <C>,S$ where $C_1+C_2 \\rightarrow C$\n",
    "\n",
    "This way, everything is uniformed to $eval$, and can change the state. This is useful for contexts such as function invocations inside expressions, or function invocations inside function invocations (`f(g(x))`)."
   ]
  }
 ],
 "metadata": {
  "kernelspec": {
   "display_name": "Python 3",
   "language": "python",
   "name": "python3"
  },
  "language_info": {
   "codemirror_mode": {
    "name": "ipython",
    "version": 3
   },
   "file_extension": ".py",
   "mimetype": "text/x-python",
   "name": "python",
   "nbconvert_exporter": "python",
   "pygments_lexer": "ipython3",
   "version": "3.5.2"
  }
 },
 "nbformat": 4,
 "nbformat_minor": 1
}
