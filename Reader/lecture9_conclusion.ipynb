{
 "cells": [
  {
   "cell_type": "markdown",
   "metadata": {},
   "source": [
    "# Conclusion\n",
    "\n",
    "In the last few chapters we have discussed how to extend our toolbox for expressing abstractions and abstract concepts via programming languages by means of functions.\n",
    "\n",
    "We have begun by showing functions as a way to capture dynamic aspects of reality (_actions_), and to define custom instructions. Of course our primitive initial definition of functions was quite leaky: we introduced the stack, and then the ability to `return` values, in order to reduce this leakiness and ensure that the different contexts in which our program could find itself evaluating would be well separated from each other.\n",
    "\n",
    "We then started exploring the potential of our new construction. We began by defining functions that invoke themselves in their own definition, thereby building self-nesting _recursive_ functions which express a lot of even complex concepts with paradoxically little code. \n",
    "\n",
    "We then moved on to the definition of functions which take as parameters, and return as result, other functions. These higher order functions that manipulate other functions as they would any other value allow us to build highly generic constructs that embody abstract notions which must be further specified with concrete actions in order to be concretely usable. Examples of such constructs are sequentialization of functions (`then`) and repetition of functions (`repeat`).\n",
    "\n",
    "Armed with these constructs we have produced some mind-bending representations of figures, our running example, thereby also showing that these constructs do indeed (easily) scale beyond the most trivial samples.\n",
    "\n",
    "Finally, we have shown that functions can be used to implement some advanced data representations, such as figures. With higher order combinators it then becomes possible to define (algebra's of) operators on the represented data, such as ways to unite, invert, intersect, etc. existing figures.\n",
    "\n",
    "Thanks to functions we will keep building our ladder of abstractions, starting with objects and classes in the next part of the text."
   ]
  }
 ],
 "metadata": {
  "kernelspec": {
   "display_name": "Python 3",
   "language": "python",
   "name": "python3"
  },
  "language_info": {
   "codemirror_mode": {
    "name": "ipython",
    "version": 3
   },
   "file_extension": ".py",
   "mimetype": "text/x-python",
   "name": "python",
   "nbconvert_exporter": "python",
   "pygments_lexer": "ipython3",
   "version": "3.6.1"
  }
 },
 "nbformat": 4,
 "nbformat_minor": 2
}
