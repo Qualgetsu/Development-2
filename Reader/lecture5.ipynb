{
 "cells": [
  {
   "cell_type": "markdown",
   "metadata": {},
   "source": [
    "# Designing recursive functions"
   ]
  },
  {
   "cell_type": "markdown",
   "metadata": {},
   "source": [
    "Now that we have seen how recursion works, we will focus on how to design recursive functions starting from an analysis of a problem. We will then translate the recursive functions in Python.\n",
    "\n",
    "## General strategy\n",
    "When confronted with a difficult problem, it is always helpful to draw it. The ability to draw something out is not just useful for aesthetic reasons: drawing the problem (with precision!) forces us to reckon with all the details of the problem, and to visualise them so we can properly deal with them.\n",
    "\n",
    "After drawing or plotting the problem, we look for _regularities_. Regularities are powerful elements in a solution, because they suggest the building blocks of both the problem and therefore the code that will become the solution. Such regularities present themselves as smaller instances of the problem itself, which we also call _recurring structure_ or _inductive case_. Without regularities (or without seeing them) it is very hard to produce a solution.\n",
    "\n",
    "After we have found the recurring structure, we must find what ties them together. For example, even though it is true that a line is made up of smaller lines, we must also define what \"made up of\" really means: in this case, concatenation.\n",
    "\n",
    "The recurring structure should recur in a specific way: every time, at a smaller scale. The line must be made up of _smaller_ lines, and at some point we expect a line so small that we do not really need to split it further. This definition of when do we stop splitting our problem into smaller versions of itself is called the _base case_."
   ]
  },
  {
   "cell_type": "markdown",
   "metadata": {},
   "source": [
    "## Playing with numbers\n",
    "\n",
    "As a first example, let us consider the problem of computing the sum of all numbers in the range $1 \\dots n$ for a given $n$. Let us begin with drawing the sum of numbers:\n",
    "\n",
    "[[PIC]]\n",
    "\n",
    "The recurring structure can be seen just by putting brackets to identify that a sum is actually a smaller sum, plus the last number:\n",
    "\n",
    "$$(0 + 1 + 2 + \\dots + n-1 + n) = ((\\dots(0 + 1) + 2)\\dots) + n-1) + n$$\n",
    "\n",
    "The brackets explicitly denote a sub-problem. Of course, we could rephrase this in a way that makes it even more evident where the recurring structure occurs. Whenever we have a series of numbers, such as $1 + \\dots + n$ added together and within brackets, we will write $\\text{sum}(1,n)$:\n",
    "\n",
    "\\begin{align*}\n",
    "\\text{sum}(1,n) \n",
    "&= \\text{sum}(1,n-1) + n \\\\\n",
    "&= (\\text{sum}(1,n-2) + n-1) + n \\\\\n",
    "&= ((\\text{sum}(1,n-3) + n-2) + n-1) + n \\\\\n",
    "&= \\vdots \\\\\n",
    "&= (((\\dots(0 + 1 \\dots) + n-2) + n-1) + n) \\\\\n",
    "\\end{align*}\n",
    "\n",
    "This formulation should also make it evident how the base case will be zero: adding all numbers up to zero will simply result in zero itself.\n",
    "\n",
    "We can translate this into a recursive function as follows:"
   ]
  },
  {
   "cell_type": "code",
   "execution_count": 6,
   "metadata": {},
   "outputs": [
    {
     "name": "stdout",
     "output_type": "stream",
     "text": [
      "6\n",
      "21\n"
     ]
    }
   ],
   "source": [
    "def sum(n):\n",
    "    if n <= 0: return 0\n",
    "    else: return sum(n-1) + n\n",
    "print(sum(int(input())))"
   ]
  },
  {
   "cell_type": "markdown",
   "metadata": {},
   "source": [
    "We could of course also look for other recurring structures. For example, we could notice that the sum of numbers up until $n$ is actually the sum of all numbers within the range $1 \\dots n$. If we focus on the sum over a range, then more decomposition possibilities emerge. One of these would, for example, split the range in two half ranges:\n",
    "\n",
    "$0 + 1 + \\dots + n = (0 + 1 + \\dots + n/2-1) + (n/2 + n/2+1 + \\dots + n)$$\n",
    "\n",
    "For example, the sum $1 + 2 + 3 + 4$ could be reformulated as the sum of $1 + 2$ and $3 + 4$. The sub-sequences respectively end at the middle point of the previous subsequence, $2 = (1+4)//2$, and start at its successor $3$.\n",
    "\n",
    "The subsequences we add according to this formulation do not vary only in the last number to add, but also the beginning of the range. We will denote the beginning of the sequence with $l$ (_lower_ bound) and the end of the sequence with $u$ (_upper_ bound).\n",
    "\n",
    "When adding (sub-) sequences, we actually have two base cases: the empty sequence, when $l > u$ (it is empty because there can be no values between numbers where the first is greater than the second), adds to $0$; the sequence with only one element, when $l = u$, adds to $l$.\n",
    "\n",
    "\\begin{align*}\n",
    "\\text{sum_range}(l,u) &= 0 \\text{ when } l > u \\\\\n",
    "&= l \\text{ when } l = u \\\\\n",
    "&= \\text{sum_range}(l,m) + \\text{sum_range}(m+1,u) \\text{ otherwise, where } m = (l+u)/2 \\\\\n",
    "\\end{align*}\n",
    "\n",
    "Turned into code, this becomes:"
   ]
  },
  {
   "cell_type": "code",
   "execution_count": 15,
   "metadata": {},
   "outputs": [
    {
     "name": "stdout",
     "output_type": "stream",
     "text": [
      "7\n",
      "28\n"
     ]
    }
   ],
   "source": [
    "def sum_range(l, u):\n",
    "    if l > u:\n",
    "        return 0\n",
    "    elif l == u:\n",
    "        return l\n",
    "    else:\n",
    "        middle_point = (l + u) // 2\n",
    "        fst_half = sum_range(l, middle_point)\n",
    "        snd_half = sum_range(middle_point + 1, u)\n",
    "        return fst_half + snd_half\n",
    "\n",
    "def sum(n):\n",
    "    return sum_range(1, n)\n",
    "\n",
    "print(sum(int(input())))"
   ]
  },
  {
   "cell_type": "markdown",
   "metadata": {},
   "source": [
    "### More examples with numbers\n",
    "\n",
    "We can perform a very similar operation to adding a range of numbers: multiplying a range. For example, the product of numbers up until $3$ would be $1 \\times 2 \\times 3$.\n",
    "\n",
    "Just like we did for the sum, we can decompose the product into the product of a shorter range, multiplied by the last number. Thus, the product of an empty sequence of numbers is $\\text{prod}(1,0) = 1$ (should we choose $0$, then we would always get $0$ also for non-empty sequences!), whereas the product of a non-empty sequence of numbers up to $n$ is the product of the sequence up to $n-1$, multiplied by $n$: $\\text{prod}(1,n) = \\text{prod}(1,n-1) \\times n$.\n",
    "\n",
    "This becomes the simple recursive function:"
   ]
  },
  {
   "cell_type": "code",
   "execution_count": 23,
   "metadata": {},
   "outputs": [
    {
     "name": "stdout",
     "output_type": "stream",
     "text": [
      "4\n",
      "24\n"
     ]
    }
   ],
   "source": [
    "def prod(n):\n",
    "    if n <= 0:\n",
    "        return 1\n",
    "    else:\n",
    "        return prod(n-1) * n\n",
    "print(prod(int(input())))"
   ]
  },
  {
   "cell_type": "markdown",
   "metadata": {},
   "source": [
    "With the very same trick, we could define the power $b^a = \\underbrace{b \\times \\dots \\times b}_{a \\text{ times}}$ as $1$ when $a=0$, but \\underbrace{b \\times \\dots \\times b}_{a-1 \\text{ times}} \\times b$ otherwise.\n",
    "\n",
    "This directly translates into the (now familiar-looking) code:"
   ]
  },
  {
   "cell_type": "code",
   "execution_count": 26,
   "metadata": {},
   "outputs": [
    {
     "name": "stdout",
     "output_type": "stream",
     "text": [
      "4\n",
      "2\n",
      "16\n"
     ]
    }
   ],
   "source": [
    "def pow(b,a):\n",
    "    if a <= 0:\n",
    "        return 1\n",
    "    else:\n",
    "        return pow(b,a-1) * b\n",
    "print(pow(int(input()), int(input())))"
   ]
  },
  {
   "cell_type": "markdown",
   "metadata": {},
   "source": [
    "## Drawing recursively\n",
    "- line\n",
    "    - asterisk + line\n",
    "    - line + asterisk + line\n",
    "- rectangle\n",
    "    - line + rectangle\n",
    "    - rectangle + rectangle\n",
    "    - rectangle + rectangle along the longest axis\n",
    "- triangle\n",
    "    - triangle + line\n",
    "    - trapezoid + trapezoid"
   ]
  }
 ],
 "metadata": {
  "kernelspec": {
   "display_name": "Python 3",
   "language": "python",
   "name": "python3"
  },
  "language_info": {
   "codemirror_mode": {
    "name": "ipython",
    "version": 3
   },
   "file_extension": ".py",
   "mimetype": "text/x-python",
   "name": "python",
   "nbconvert_exporter": "python",
   "pygments_lexer": "ipython3",
   "version": "3.5.2"
  }
 },
 "nbformat": 4,
 "nbformat_minor": 1
}
