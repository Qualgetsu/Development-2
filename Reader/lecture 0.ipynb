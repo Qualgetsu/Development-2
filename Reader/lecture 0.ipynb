{
 "cells": [
  {
   "cell_type": "markdown",
   "metadata": {},
   "source": [
    "# Introduction"
   ]
  },
  {
   "cell_type": "markdown",
   "metadata": {},
   "source": [
    "In this second part of our exploration of programming constructs from basic concepts, we will focus almost exclusively on to the concept of abstraction.\n",
    "\n",
    "Humans have an impressive array of senses, through which we can acquire huge amounts of information from our environment. Unfortunately, our ability to process all of these signals in depth at the same time is somewhat limited. Try, for example, to hold a delicate balance of objects in your hands while following a complex conversation at the same time: at least one of the two activities is doomed to failure. Given this fundamental inability to process everything we possibly could at the same time, we have evolved a new skill: abstraction. Abstraction is the basic principle by which humans dynamically shift their focus, in order to be able to process only information that is relevant to the task at hand. For example, while chasing prey, we need not get distracted by pretty flowers along the way (even though for mating purposes those very same flowers would be far more relevant for a young hunter)!"
   ]
  },
  {
   "cell_type": "markdown",
   "metadata": {},
   "source": [
    "## Code abstraction\n",
    "The basic unit of information when programming is _code_. Code is how we encode (complex) concepts in a language understood by the computer. The basic constructs that a programming language offers us are somewhat generic and limited. In order to focus our attention on some constructs rather than others, we will **give names** to blocks of code in order to recall the whole block of code with a simpler name. We had done this already, implicitly, by giving names to the result of expressions: variables are indeed just names for some expression stored in the state. This process of giving names to all sorts of things, in order to recall and retrieve them in a way that we perceive as _contextual_ and logical, is the basic activity of the process of abstraction.\n",
    "\n",
    "We will not just give names to blocks of code. For an abstraction to be defined properly, we want the freedom to use it whenever we want without strange interferences, which are (alas!) too easy to introduce in code. We will therefore define boundaries of interaction between our program and its abstractions, in the form of _arguments_ and _return values_, so that the pieces of code that we abstract away will be independent from the rest of the systems we build."
   ]
  },
  {
   "cell_type": "markdown",
   "metadata": {},
   "source": [
    "## Expected results\n",
    "By defining ways to name and reuse code, our programs will acquire a new, pleasant dimension: instead of being verbose, with meaning hidden under mountains of code, they will become shorter and to the point. The names of the code blocks become, effectively, new high level instructions in our programs. Such new high level instructions reflect concepts of the domain of the problem, so that the solution is told \"almost like a story\", while using names and concepts taken from the problem domain itself."
   ]
  },
  {
   "cell_type": "markdown",
   "metadata": {},
   "source": [
    "## Transformation and composition\n",
    "After learning to give names to blocks of code in order to make our programs more idiomatic for the problem domain, we will start climbing the ladder of abstraction in order to define higher order concepts.\n",
    "\n",
    "We will show how to _compose_ functions together into pipelines which pass data through each stage in the pipeline, optionally performing some transformation. By means of composition we will achieve the ability to define whole programs as the intelligent composition of a series of solution steps. Each step encodes some property of the solution, and the composition combines and preserves the various steps in order to ensure that the whole pipeline encodes all properties needed to define the solution.\n",
    "\n",
    "Of course, along the way we will need to define what _property of a solution_ means, and what we expect when _combining_ and _preserving_ such properties.\n",
    "\n",
    "Programming by means of (property preserving) composition of partial solutions is the essence of _engineering_ when building software."
   ]
  }
 ],
 "metadata": {
  "kernelspec": {
   "display_name": "Python 3",
   "language": "python",
   "name": "python3"
  },
  "language_info": {
   "codemirror_mode": {
    "name": "ipython",
    "version": 3
   },
   "file_extension": ".py",
   "mimetype": "text/x-python",
   "name": "python",
   "nbconvert_exporter": "python",
   "pygments_lexer": "ipython3",
   "version": "3.5.2"
  }
 },
 "nbformat": 4,
 "nbformat_minor": 2
}
