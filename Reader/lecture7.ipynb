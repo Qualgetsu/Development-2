{
 "cells": [
  {
   "cell_type": "markdown",
   "metadata": {},
   "source": [
    "# Examples of higher order functions and partial application"
   ]
  },
  {
   "cell_type": "markdown",
   "metadata": {},
   "source": [
    "So far we have discussed some possibilities unlocked by higher order functions and partial application. Such a discussion is, in some sense, theoretical. Limiting one to only the theory, and then stating that \"application is an excercise left to the reader\" with an implication of triviality is inadequate. While it is certainly true that the theory lights the way and shows us the direction of what is indeed possible, it is the daily practice of the engineer that truly turns this potential into reality. Believing that this translation of the ideal into the pragmatic requires little more than faithful knowledge of the theory is childishly naïve at best. \n",
    "\n",
    "For this reason, we will now focus on building simple but concrete programs with the aforementioned techniques, in order to complement our first intuition with lots of examples.\n",
    "\n",
    "<div class=\"alert alert-block alert-info\">\n",
    "Theory and practice together form a unit which cannot be easily dissolved. Theory defines general patterns, whereas practice concerns itself with the many concrete instances that such patterns represent.\n",
    "\n",
    "There tends to be much more practice than theory. Take _functions_ as an example. The theory will simply state that functions exist, are defined and work in a given way. The practice of functions is much more complex: we must learn to interpret a real-world phenomenon in terms of functions, define the function itself, give it a name, etc. Moreover, while there exists a limited number (for the sake of this discussion let us say: *just one*) of useful definitions of the concept of functions, at the same time there exist infinite many concrete functions in practice that we might \"type in code\". Some of these are good and reasonable code, others are good code but very slow to run, others are bad code but very fast to run, other function implementations are intuitive, and so on.\n",
    "\n",
    "The apparent chaos inherent to the concrete application of the practice is what leads us to building something of value and of use. Theory brings order to this chaos so that we can see underlying patterns and more effectively work our way through to our goals.\n",
    "\n",
    "Once again: **neither theory nor practice** can stand without the other.\n",
    "</div>"
   ]
  },
  {
   "cell_type": "markdown",
   "metadata": {},
   "source": [
    "## A simple case\n",
    "\n",
    "In the rest of this chapter we will define some recursive higher order functions. We will do so by using almost exclusively the generic combinators `repeat` and `then`. The choice of these combinators is not just the result of a random selection: `repeat` embodies the abstract concept of performing an action multiple times in sequence, whereas `then` chains two (potentially) different actions together into a new, more complex action.\n",
    "\n",
    "Let us concretize our discussion by observing an example of a simple function which we are now extremely familiar with: the recursive function which draws a line."
   ]
  },
  {
   "cell_type": "code",
   "execution_count": 1,
   "metadata": {},
   "outputs": [
    {
     "name": "stdout",
     "output_type": "stream",
     "text": [
      "4\n"
     ]
    },
    {
     "data": {
      "text/plain": [
       "'****'"
      ]
     },
     "execution_count": 1,
     "metadata": {},
     "output_type": "execute_result"
    }
   ],
   "source": [
    "def line(n):\n",
    "    if n <= 0:\n",
    "        return \"\"\n",
    "    else:\n",
    "        return \"*\" + line(n-1)\n",
    "print(line(int(input())))"
   ]
  },
  {
   "cell_type": "markdown",
   "metadata": {},
   "source": [
    "Let us focus now on the expression `\"*\" + line(n-1)` which characterizes the inductive case. We could _interpret_ this as _draw an asterisk, then the rest of the line_.\n",
    "\n",
    "This way of interpreting code does not match the way that code would exactly be read, since we are not talking about arithmetic operations such as the sum of strings. This mismatch between reading and interpretation is not just merely annoying: it can be a source of dissonance between our expectations and what the code really does.\n",
    "\n",
    "Our target is to be able to write code that literally matches the description: `then(asterisk, line(n-1))`. This would be read as `asterisk then line(n-1)` if we consider `then` to be a prefix operator, that is an operator which is written to the left of the arguments. Given our current state of the art, this is the best we can do, but moving forward with classes and methods it will be possible to improve on the readability even further.\n",
    "\n",
    "There is a minor snag along the way: `then` does not work with strings, but rather with functions as parameters. This means that both `asterisk` and `line(n-1)` must return _functions_, which `then` will combine together, instead of just strings. This leads us to reformulating the task we expect of `line` so that it matches this new requirement:\n",
    "\n",
    "**`line(n)` is a function which takes as input a string, and returns the input string, plus `n` asterisks attached to it**\n",
    "\n",
    "We could also rephrase this by explicitly taking into account the first parameter to `line` as follows:\n",
    "\n",
    "**`line` is a function which takes as input a number `n`, and returns a function which further takes as input a string, and returns the input string, plus `n` asterisks attached to it**\n",
    "\n",
    "This means that `line(3)` does not directly return `\"***\"`. Rather, it returns a function which we can further invoke, with an extra set of parentheses with arguments between them. Thus, `line(3)(\"\")` would yield `\"***\"`. Furthermore, `line(3)(\"...\")` would give us `\"...***\"`, meaning that `line` simply \"keeps drawing\" from a given starting point. This has a major consequence: `line` is now ready to be concatenated to other drawing functions: `then(line(3), line(2))` would give us back a function which adds `\"*****\"` to whatever input it further receives. We can thus keep composing: `then(line(3), then(line(2), line(1)))` would give us back a function which adds `\"******\"` to whatever input it further receives, and so on.\n",
    "\n",
    "According to this new, composable formulation of drawing:\n",
    "- drawing nothing will simply add nothing to the string it receives as input\n",
    "- drawing an asterisk will simply add an asterisk to the string it receives as input\n",
    "- drawing a newline will simply add a newline to the string it receives as input    \n",
    "- ...\n",
    "\n",
    "We can turn this in code quite straightforwardly:"
   ]
  },
  {
   "cell_type": "code",
   "execution_count": 3,
   "metadata": {},
   "outputs": [
    {
     "name": "stdout",
     "output_type": "stream",
     "text": [
      "\n",
      "...\n",
      "*\n",
      "...*\n"
     ]
    }
   ],
   "source": [
    "def nothing(s): return s\n",
    "def asterisk(s): return s + \"*\"\n",
    "def space(s): return s + \" \"\n",
    "def newline(s): return s + \"\\n\"\n",
    "\n",
    "print(nothing(\"\"))\n",
    "print(nothing(\"...\"))\n",
    "\n",
    "print(asterisk(\"\"))\n",
    "print(asterisk(\"...\"))"
   ]
  },
  {
   "cell_type": "markdown",
   "metadata": {},
   "source": [
    "This composability makes it easy, or at least facilitates, drawing multiple things in combination. For example, if we wanted to draw multiple asterisks in sequence, we could call the asterisk function nested within itself: the result of the first is then fed right into the second:"
   ]
  },
  {
   "cell_type": "code",
   "execution_count": 3,
   "metadata": {},
   "outputs": [
    {
     "name": "stdout",
     "output_type": "stream",
     "text": [
      "**\n",
      "***\n"
     ]
    }
   ],
   "source": [
    "print(asterisk(asterisk(\"\")))\n",
    "print(asterisk(asterisk(asterisk(\"\"))))"
   ]
  },
  {
   "cell_type": "markdown",
   "metadata": {},
   "source": [
    "The example we have just given is a bit weak. It requires us to provide an initial string always, which might be something we want to delay for later. Moreover, invoking a function with the output of another one is exactly what we built `then` for, so we could now rephrase the code above in terms of `then`:"
   ]
  },
  {
   "cell_type": "code",
   "execution_count": 4,
   "metadata": {},
   "outputs": [
    {
     "name": "stdout",
     "output_type": "stream",
     "text": [
      "**\n",
      "***\n",
      "!!!***\n",
      "* *\n"
     ]
    }
   ],
   "source": [
    "def then(f,g): \n",
    "    return lambda x: g(f(x))\n",
    "\n",
    "two_asterisks = then(asterisk, asterisk)\n",
    "three_asterisks = then(asterisk, two_asterisks)\n",
    "\n",
    "print(two_asterisks(\"\"))\n",
    "print(three_asterisks(\"\"))\n",
    "print(three_asterisks(\"!!!\"))\n",
    "print(then(asterisk, then(space, asterisk))(\"\"))"
   ]
  },
  {
   "cell_type": "markdown",
   "metadata": {},
   "source": [
    "We have now shifted our focus from the very concrete idea of \"concrete drawing\", in which functions would directly output their drawing, to something more abstract. Our notion of \"abstract drawing\" delays the concrete operation, and simply accumulates instructions on _how to draw_. These instructions constitute a pipeline which, until it gets some initial string to draw from, performs no operation whatsoever.\n",
    "\n",
    "Such a pipeline acts with the familiar rules for addition. For example, we could notice that just like `0 + n` is simply the same as `n`, `then(nothing, x)` will simply be the same as `x`. This basic fact suggests that drawing is and `then` to concatenate different images is indeed a \"concatenative structure\" just like we have seen strings to be:"
   ]
  },
  {
   "cell_type": "code",
   "execution_count": 5,
   "metadata": {},
   "outputs": [
    {
     "name": "stdout",
     "output_type": "stream",
     "text": [
      "*\n",
      "*\n"
     ]
    }
   ],
   "source": [
    "print(then(nothing, asterisk)(\"\"))\n",
    "print(then(asterisk, nothing)(\"\"))"
   ]
  },
  {
   "cell_type": "markdown",
   "metadata": {},
   "source": [
    "At this point, we can \"easily\" assemble the `line` function:\n",
    "- an empty line simply adds `nothing`, as there is indeed nothing to do;\n",
    "- a non-empty line first adds an `asterisk`, `then` the rest of the `line`."
   ]
  },
  {
   "cell_type": "code",
   "execution_count": 7,
   "metadata": {},
   "outputs": [
    {
     "name": "stdout",
     "output_type": "stream",
     "text": [
      "4\n"
     ]
    },
    {
     "data": {
      "text/plain": [
       "'****'"
      ]
     },
     "execution_count": 7,
     "metadata": {},
     "output_type": "execute_result"
    }
   ],
   "source": [
    "def line(n):\n",
    "    if n <= 0:\n",
    "        return nothing\n",
    "    else:\n",
    "        return then(asterisk, line(n-1))\n",
    "\n",
    "line(int(input()))(\"\")"
   ]
  },
  {
   "cell_type": "markdown",
   "metadata": {},
   "source": [
    "### More complex figures\n",
    "\n",
    "Let us move on to more complex figures. In particular, the first such figure we encounter when climbing up in complexity is the rectangle. According to the usual definition, a rectangle with `n` rows and `m` columns is drawn as:\n",
    "- `nothing` if `n` is zero;\n",
    "- a `line`, then a `newline`, and then a `rectangle` with n-1 rows otherwise.\n",
    "\n",
    "With our framework, this is translated quite straightforwardly as:"
   ]
  },
  {
   "cell_type": "code",
   "execution_count": 8,
   "metadata": {},
   "outputs": [
    {
     "name": "stdout",
     "output_type": "stream",
     "text": [
      "4\n",
      "****\n",
      "****\n",
      "****\n",
      "****\n",
      "\n"
     ]
    }
   ],
   "source": [
    "def rectangle(n,m):\n",
    "    if n <= 0:\n",
    "        return nothing\n",
    "    else:\n",
    "        return then(then(line(m), newline), rectangle(n-1,m))\n",
    "    \n",
    "n = int(input())\n",
    "print(rectangle(n,n)(\"\"))"
   ]
  },
  {
   "cell_type": "markdown",
   "metadata": {},
   "source": [
    "#### Repeating\n",
    "\n",
    "We now start noticing a higher level pattern: we are indeed just repeating some (drawing) action multiple times. We might be (and indeed are!) tempted to capture this higher level pattern with an own name and as an own function.\n",
    "\n",
    "This function is the also familiar `repeat`, which we could reformulate as a function which accepts a function as input, and then executes it `n` times starting from a given input.\n",
    "\n",
    "`repeat(f,n)` will thus yield $\\texttt{lambda x:} \\underbrace{\\texttt{f(...(f(x))...)}}_{n \\text{ times}}$.\n",
    "\n",
    "We can implement `repeat` now easily as a function which:\n",
    "- returns `nothing` if `n` is zero;\n",
    "- performs `f` once, `then` it `repeat`s `f` `n-1` times otherwise."
   ]
  },
  {
   "cell_type": "code",
   "execution_count": 5,
   "metadata": {},
   "outputs": [
    {
     "name": "stdout",
     "output_type": "stream",
     "text": [
      "4\n",
      "16\n"
     ]
    }
   ],
   "source": [
    "def repeat(f,n):\n",
    "    if n <= 0:\n",
    "        return nothing\n",
    "    else:\n",
    "        return then(f, repeat(f, n-1))\n",
    "\n",
    "print(repeat(lambda x: x * 2, int(input()))(1))"
   ]
  },
  {
   "cell_type": "markdown",
   "metadata": {},
   "source": [
    "We could even redefine a compacter and more elegant version of `line` by means of `repeat`:"
   ]
  },
  {
   "cell_type": "code",
   "execution_count": 8,
   "metadata": {},
   "outputs": [
    {
     "name": "stdout",
     "output_type": "stream",
     "text": [
      "3\n",
      "***\n"
     ]
    }
   ],
   "source": [
    "def line(n): return repeat(asterisk, n)\n",
    "\n",
    "print(line(int(input()))(\"\"))"
   ]
  },
  {
   "cell_type": "markdown",
   "metadata": {},
   "source": [
    "In the exact same spirit, a rectangle will just become the repetition of lines (each followed by a newline of course):"
   ]
  },
  {
   "cell_type": "code",
   "execution_count": 10,
   "metadata": {},
   "outputs": [
    {
     "name": "stdout",
     "output_type": "stream",
     "text": [
      "2\n",
      "3\n",
      "***\n",
      "***\n",
      "\n"
     ]
    }
   ],
   "source": [
    "def rectangle(n,m): return repeat(then(line(m), newline), n)\n",
    "\n",
    "print(rectangle(int(input()), int(input()))(\"\"))"
   ]
  },
  {
   "cell_type": "markdown",
   "metadata": {},
   "source": [
    "Finally, let us build hollow squares. Hollow squares are built up from hollow lines, but for the rest follow the same approach:"
   ]
  },
  {
   "cell_type": "code",
   "execution_count": 11,
   "metadata": {},
   "outputs": [
    {
     "name": "stdout",
     "output_type": "stream",
     "text": [
      "4\n",
      "****\n",
      "*  *\n",
      "*  *\n",
      "****\n"
     ]
    }
   ],
   "source": [
    "def hollow_line(n): return then(asterisk, then(repeat(space, n-2), asterisk))\n",
    "def hollow_square(n): return then(then(line(n), newline), then(repeat(then(hollow_line(n), newline), n-2), line(n)))\n",
    "\n",
    "print(hollow_square(int(input()))(\"\"))"
   ]
  },
  {
   "cell_type": "markdown",
   "metadata": {},
   "source": [
    "## Wrapping up\n",
    "The approach we have just described falls under the broader name of _declarative programming_. Declarative programming is not a rigidly defined construct, and actually it is more of an umbrella concept which we use to categorize implementations of programs that follow the same general style.\n",
    "\n",
    "Usually, a style of programming is defined as declarative if, instead of focusing on the update of variables in sequence in order to achieve a goal, we simply state the goal in code in a way that is read as almost natural language, and then via various means of composition the right answer is found. \n",
    "\n",
    "Declarative programming therefore allows us to quickly define solutions which are at a higher level of abstraction, and which therefore offer more chances for correctness than the imperative version of the same program. Working at a higher level of abstraction offers us the possibility to express our thoughts directly, unfiltered, in code, instead of performing a complex, cumbersome translation which might itself be a source of errors."
   ]
  }
 ],
 "metadata": {
  "kernelspec": {
   "display_name": "Python 3",
   "language": "python",
   "name": "python3"
  },
  "language_info": {
   "codemirror_mode": {
    "name": "ipython",
    "version": 3
   },
   "file_extension": ".py",
   "mimetype": "text/x-python",
   "name": "python",
   "nbconvert_exporter": "python",
   "pygments_lexer": "ipython3",
   "version": "3.5.2"
  }
 },
 "nbformat": 4,
 "nbformat_minor": 1
}
